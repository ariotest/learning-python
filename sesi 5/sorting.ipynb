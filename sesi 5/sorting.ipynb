{
 "cells": [
  {
   "cell_type": "code",
   "execution_count": null,
   "id": "c4ce0d5c",
   "metadata": {},
   "outputs": [
    {
     "name": "stdout",
     "output_type": "stream",
     "text": [
      "Nilai Belum diurutkan:  [90, 88, 98, 56, 89]\n",
      "Nilai diurutkan dengan Bubble Sort:  [56, 88, 89, 90, 98]\n"
     ]
    }
   ],
   "source": [
    "'''\n",
    "Algoritma pseudocode\n",
    "bubble sort:\n",
    "array awal : [5, 3, 8, 4, 2]\n",
    "mulai\n",
    "n = len(array)\n",
    "untuk i dari 0 ke n-1\n",
    "    untuk j dari 0 ke n-i-1:\n",
    "           if arr[j] > arr[j+1]:\n",
    "                tukar arr[j] dan arr[j + 1]\n",
    "selesai     \n",
    "'''\n",
    "def bubble_sort(arr):\n",
    "    # mulai algoritma\n",
    "    panjang_array = len(arr) #ambil pjg array/list\n",
    "    \n",
    "    # looping list kita\n",
    "    for i in range(0, panjang_array - 1):\n",
    "        \n",
    "        # looping dalam list kita\n",
    "        for j in range(0, panjang_array - i - 1):\n",
    "            # cek nilai apakah idx kiri > kanan\n",
    "            if arr[j] > arr[j + 1]:\n",
    "                # swap/tuker datanya\n",
    "                arr[j], arr[j + 1] = arr[j + 1], arr[j]\n",
    "    \n",
    "    return arr\n",
    "\n",
    "# cara penggunaan\n",
    "list_nilai = [90, 88, 98, 56, 89]\n",
    "print(\"Nilai Belum diurutkan: \", list_nilai)\n",
    "\n",
    "nilai_urut = bubble_sort(list_nilai)\n",
    "print(\"Nilai diurutkan dengan Bubble Sort: \", nilai_urut)"
   ]
  },
  {
   "cell_type": "code",
   "execution_count": null,
   "id": "759397c5",
   "metadata": {},
   "outputs": [
    {
     "name": "stdout",
     "output_type": "stream",
     "text": [
      "Nilai Belum terurut:  [90, 88, 98, 56, 89]\n",
      "Nilai diurutkan dengan selection sort:  [98, 90, 89, 88, 56]\n"
     ]
    }
   ],
   "source": [
    "'''\n",
    "Algoritma pseudocode\n",
    "selection sort:\n",
    "[5, 3, 8, 4, 2]\n",
    "mulai\n",
    "n = len(arr)\n",
    "untuk i dari 0 ke n-1:\n",
    "        # menggap elemen pertama sebagai yang terkceil \n",
    "        min index = i\n",
    "        for j dari i + 1 ke n:\n",
    "                    jika arr[j] < arr[min index]:\n",
    "                      min index = j\n",
    "                    \n",
    "            tukar arr[i] dan arr[min index]\n",
    "selesai\n",
    "'''\n",
    "\n",
    "def selection_sort(arr):\n",
    "    # mulai algoritma selection sort\n",
    "    n = len(arr) #ambil pjg arr/list\n",
    "    \n",
    "    # melakukan looping\n",
    "    for i in range(0, n - 1):\n",
    "        # anggap elemen pertama sebagai nilai yg terkecil\n",
    "        min_idx = i\n",
    "        \n",
    "        for j in range(i + 1, n):\n",
    "            # cek apabila nilai list [j] < list [min idx]\n",
    "            if arr[j] < arr[min_idx]:\n",
    "            # if arr[j] > arr[min_idx]:\n",
    "                min_idx = j\n",
    "        arr[i], arr[min_idx] = arr[min_idx], arr[i]\n",
    "    \n",
    "    return arr\n",
    "\n",
    "# Cara Penggunaan\n",
    "list_nilai = [90, 88, 98, 56, 89]\n",
    "print(\"Nilai Belum terurut: \", list_nilai)\n",
    "print(\"Nilai diurutkan dengan selection sort: \", selection_sort(list_nilai))"
   ]
  },
  {
   "cell_type": "code",
   "execution_count": null,
   "id": "9329666a",
   "metadata": {},
   "outputs": [],
   "source": []
  },
  {
   "cell_type": "code",
   "execution_count": null,
   "id": "498e9958",
   "metadata": {},
   "outputs": [],
   "source": [
    "'''\n",
    "Tokok Online Mini\n",
    "- produk (harga, nama)\n",
    "- untuk urutkan harga termurah - termahal\n",
    "- untuk urutkan nama produk kita (A - Z)\n",
    "\n",
    "=> fitur app\n",
    "- menampilkan menu\n",
    "- memilih menu\n",
    "\n",
    "'''\n",
    "\n",
    "# data produk -> list -> int, string, dictionary, boolean\n",
    "produk = [\n",
    "    {\"nama\": \"Mouse\", \"harga\": 75000},\n",
    "    {\"nama\": \"Keyboard\", \"harga\": 150000},\n",
    "    {\"nama\": \"Flasdisk\", \"harga\": 50000},\n",
    "    {\"nama\": \"Monitor\", \"harga\": 975000},\n",
    "    {\"nama\": \"Charger\", \"harga\": 125000},\n",
    "]\n",
    "\n",
    "# function tampilkan data produk\n",
    "def tampilkan_produk(produk):\n",
    "    print(\"\\nDaftar Produk: \")\n",
    "    for p in produk:\n",
    "        print(f\"- {p['nama']}: Rp{p['harga']}\") #->untuk cetak nama dan harga\n",
    "\n",
    "# function sort harga\n",
    "def selection_sort_by_harga(produk):\n",
    "    n = len(produk) #ambil pjg arr/list\n",
    "    for i in range(0, n - 1):\n",
    "        min_idx = i      \n",
    "        for j in range(i + 1, n):\n",
    "            if produk[j]['harga'] < produk[min_idx]['harga']:\n",
    "                min_idx = j\n",
    "        produk[i], produk[min_idx] = produk[min_idx], produk[i]\n",
    "    return produk\n",
    "\n",
    "# function sort harga\n",
    "def selection_sort_by_nama(produk):\n",
    "    n = len(produk) #ambil pjg arr/list\n",
    "    for i in range(0, n - 1):\n",
    "        min_idx = i      \n",
    "        for j in range(i + 1, n):\n",
    "            if produk[j]['nama'] < produk[min_idx]['nama']:\n",
    "                min_idx = j\n",
    "        produk[i], produk[min_idx] = produk[min_idx], produk[i]\n",
    "    return produk\n",
    "\n",
    "def main():\n",
    "    # skema app\n",
    "    print(\"---Selamat Datang di Toko Online Mini----\")\n",
    "    # tampilkan menu\n",
    "    while True:\n",
    "        print(\"\\n1. Urutkan Berdasarkan Harga\")\n",
    "        print(\"2. Urutkan Berdasarkan Nama\")\n",
    "        print(\"3. Tampilkan Data Produk\")\n",
    "        print(\"4. Keluar/exit\")\n",
    "        \n",
    "        pilihan = input(\"Pilih Menu (1/2/3/4): \")\n",
    "        # break ->berhenti\n",
    "        # kondisi \n",
    "        if pilihan == \"1\":\n",
    "            # urutkan harga produk\n",
    "            hasil = selection_sort_by_harga(produk)\n",
    "            tampilkan_produk(hasil)\n",
    "        elif pilihan == \"2\":\n",
    "            #urukan nama produk\n",
    "            hasil = selection_sort_by_nama(produk)\n",
    "            tampilkan_produk(hasil)\n",
    "        elif pilihan == \"3\":\n",
    "            # tampilkan data produk\n",
    "            tampilkan_produk(produk)\n",
    "        elif pilihan == \"4\":\n",
    "            # tampilkan pesan sampai jumpa\n",
    "            print(\"Terima Kasih 👋\")\n",
    "            break\n",
    "        else:\n",
    "            print(\"Pilihan tidak valid. Coba lagi!\")"
   ]
  },
  {
   "cell_type": "code",
   "execution_count": null,
   "id": "18847480",
   "metadata": {},
   "outputs": [
    {
     "name": "stdout",
     "output_type": "stream",
     "text": [
      "---Selamat Datang di Toko Online Mini----\n",
      "\n",
      "1. Urutkan Berdasarkan Harga\n",
      "2. Urutkan Berdasarkan Nama\n",
      "3. Tampilkan Data Produk\n",
      "4. Keluar/exit\n"
     ]
    }
   ],
   "source": [
    "main()"
   ]
  },
  {
   "cell_type": "code",
   "execution_count": null,
   "id": "9aed2743",
   "metadata": {},
   "outputs": [],
   "source": []
  },
  {
   "cell_type": "code",
   "execution_count": null,
   "id": "ffa03803",
   "metadata": {},
   "outputs": [],
   "source": []
  },
  {
   "cell_type": "code",
   "execution_count": 2,
   "id": "412974d6",
   "metadata": {},
   "outputs": [
    {
     "name": "stdout",
     "output_type": "stream",
     "text": [
      "KITA BELAJAR PYTHON\n"
     ]
    }
   ],
   "source": [
    "teks = \"Kita Belajar PYTHON\"\n",
    "\n",
    "print(teks.upper())"
   ]
  },
  {
   "cell_type": "code",
   "execution_count": null,
   "id": "2d977365",
   "metadata": {},
   "outputs": [],
   "source": [
    "pilihan = \"YA/Tidak\"\n",
    "pilihan.lower()\n",
    "\n",
    "if pilihan == 'ya':\n",
    "    print(\"halo\")\n",
    "elif pilihan =='tidak':\n",
    "    print(\"tidak\")"
   ]
  },
  {
   "cell_type": "code",
   "execution_count": null,
   "id": "fca3b6ad",
   "metadata": {},
   "outputs": [],
   "source": []
  }
 ],
 "metadata": {
  "kernelspec": {
   "display_name": "Python 3",
   "language": "python",
   "name": "python3"
  },
  "language_info": {
   "codemirror_mode": {
    "name": "ipython",
    "version": 3
   },
   "file_extension": ".py",
   "mimetype": "text/x-python",
   "name": "python",
   "nbconvert_exporter": "python",
   "pygments_lexer": "ipython3",
   "version": "3.13.3"
  }
 },
 "nbformat": 4,
 "nbformat_minor": 5
}
