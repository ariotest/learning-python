{
 "cells": [
  {
   "cell_type": "code",
   "execution_count": 3,
   "id": "3989af5e",
   "metadata": {},
   "outputs": [
    {
     "name": "stdout",
     "output_type": "stream",
     "text": [
      "Hello Evelyn\n"
     ]
    }
   ],
   "source": [
    "print(\"Hello Evelyn\")"
   ]
  },
  {
   "cell_type": "code",
   "execution_count": 1,
   "id": "ee377bbe-7fc2-4f30-bd2f-f5f70d34de41",
   "metadata": {},
   "outputs": [
    {
     "name": "stdout",
     "output_type": "stream",
     "text": [
      "hello teman-teman\n"
     ]
    }
   ],
   "source": [
    "print(\"hello teman-teman\")"
   ]
  },
  {
   "cell_type": "code",
   "execution_count": null,
   "id": "e1d33625-782e-4914-b7cc-179eaa46cef3",
   "metadata": {},
   "outputs": [
    {
     "name": "stdout",
     "output_type": "stream",
     "text": [
      "25.0\n"
     ]
    }
   ],
   "source": [
    "# sequential\n",
    "# input\n",
    "angka = 50\n",
    "# proses\n",
    "perhitungan = angka / 2\n",
    "# output\n",
    "print(perhitungan)"
   ]
  },
  {
   "cell_type": "code",
   "execution_count": 7,
   "id": "ea0bec4a",
   "metadata": {},
   "outputs": [
    {
     "name": "stdout",
     "output_type": "stream",
     "text": [
      "ganjil\n"
     ]
    }
   ],
   "source": [
    "# selection\n",
    "\n",
    "# cek ganjil genap\n",
    "\n",
    "angka = 11\n",
    "\n",
    "# kondisi\n",
    "if angka % 2 == 0:\n",
    "    print(\"genap\")\n",
    "else:\n",
    "    print(\"ganjil\")"
   ]
  },
  {
   "cell_type": "code",
   "execution_count": null,
   "id": "26a5faec",
   "metadata": {},
   "outputs": [
    {
     "name": "stdout",
     "output_type": "stream",
     "text": [
      "1\n",
      "2\n",
      "3\n",
      "4\n",
      "5\n",
      "6\n",
      "7\n",
      "8\n",
      "9\n",
      "10\n"
     ]
    }
   ],
   "source": [
    "# iteration\n",
    "for i in range(1, 11):\n",
    "    print(i)"
   ]
  },
  {
   "cell_type": "code",
   "execution_count": null,
   "id": "386fdeda",
   "metadata": {},
   "outputs": [
    {
     "name": "stdout",
     "output_type": "stream",
     "text": [
      "ganjil\n"
     ]
    }
   ],
   "source": [
    "# mulai\n",
    "\n",
    "# masukkan bil bulat\n",
    "bilangan = int(input(\"Masukkan Bilangan: \"))\n",
    "\n",
    "# bagi 2\n",
    "angka = bilangan % 2\n",
    "\n",
    "# kondisi\n",
    "if angka == 0:\n",
    "    print(\"genap\")\n",
    "else:\n",
    "    print(\"ganjil\")\n"
   ]
  },
  {
   "cell_type": "code",
   "execution_count": null,
   "id": "690955e9",
   "metadata": {},
   "outputs": [],
   "source": []
  }
 ],
 "metadata": {
  "kernelspec": {
   "display_name": "Python 3",
   "language": "python",
   "name": "python3"
  },
  "language_info": {
   "codemirror_mode": {
    "name": "ipython",
    "version": 3
   },
   "file_extension": ".py",
   "mimetype": "text/x-python",
   "name": "python",
   "nbconvert_exporter": "python",
   "pygments_lexer": "ipython3",
   "version": "3.13.3"
  }
 },
 "nbformat": 4,
 "nbformat_minor": 5
}
