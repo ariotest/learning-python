{
 "cells": [
  {
   "cell_type": "code",
   "execution_count": null,
   "id": "d44da698",
   "metadata": {},
   "outputs": [
    {
     "name": "stdout",
     "output_type": "stream",
     "text": [
      "hello world\n"
     ]
    }
   ],
   "source": [
    "# komentar = suatu baris kode yang tidak akan di cetak/tampilkan/eksekusi\n",
    "# memberikan deskripsi ke kode kita\n",
    "# mematikan kode\n",
    "# print(\"Hello World\")\n",
    "# single line komentar\n",
    "'''\n",
    "ini mutliple line\n",
    "komentar\n",
    "'''\n",
    "\"\"\"\n",
    "baris 1\n",
    "baris 2\n",
    "baris 3\n",
    "\"\"\"\n",
    "print(\"hello world\") # ini cetak hello world\n",
    "# inline komentar"
   ]
  },
  {
   "cell_type": "code",
   "execution_count": null,
   "id": "81b6c0cf",
   "metadata": {},
   "outputs": [
    {
     "name": "stdout",
     "output_type": "stream",
     "text": [
      "170\n"
     ]
    }
   ],
   "source": [
    "# Variabel = Wadah / Penampung\n",
    "tinggi = 170 # kita membuat variabel dengan nama 'tinggi'\n",
    "\n",
    "# cetak variable\n",
    "print(tinggi)\n",
    "\n",
    "# tinggi X Tinggi\n",
    "# case sensitive\n",
    "\n",
    "# nama siswa = \"Evelyn\" # membuat variabel nama siswa\n",
    "\n",
    "# aturan penulisan variabel\n",
    "\n",
    "# menggunakan spasi jika 2 kata\n",
    "# X nama siswa = \"Evelyn\" # membuat variabel nama siswa\n",
    "# 4nama = \"evelyn\" akan membaca angka bukan nama variabel\n",
    "# @nama = \"evelyn\"\n",
    "\n",
    "# rekomendasi penamaan variabel\n",
    "# snake case\n",
    "tinggiSiswa = 170\n",
    "\n",
    "# camel case\n",
    "TinggiSiswa = 172\n",
    "\n",
    "# pascal case\n",
    "tinggi_siswa = 171"
   ]
  },
  {
   "cell_type": "code",
   "execution_count": 27,
   "id": "e27bc3fb",
   "metadata": {},
   "outputs": [
    {
     "name": "stdout",
     "output_type": "stream",
     "text": [
      "<class 'str'>\n",
      "<class 'str'>\n"
     ]
    }
   ],
   "source": [
    "# Data Types\n",
    "\n",
    "# tipe data teks\n",
    "nama_siswa = \"Evelyn\" # tipe data teks/string\n",
    "print(type(nama_siswa))\n",
    "teks = \"Ario\"\n",
    "print(type(teks))"
   ]
  },
  {
   "cell_type": "code",
   "execution_count": 11,
   "id": "cb31ec26",
   "metadata": {},
   "outputs": [
    {
     "name": "stdout",
     "output_type": "stream",
     "text": [
      "<class 'int'>\n"
     ]
    }
   ],
   "source": [
    "# tipe data numeric/angka\n",
    "usia_siswa = 20 # tipe data int/bil bulat\n",
    "print(type(usia_siswa))"
   ]
  },
  {
   "cell_type": "code",
   "execution_count": 13,
   "id": "c179b556",
   "metadata": {},
   "outputs": [
    {
     "name": "stdout",
     "output_type": "stream",
     "text": [
      "20\n"
     ]
    }
   ],
   "source": [
    "print(usia_siswa) # cetak isi usia siswa"
   ]
  },
  {
   "cell_type": "code",
   "execution_count": 15,
   "id": "1b562335",
   "metadata": {},
   "outputs": [
    {
     "name": "stdout",
     "output_type": "stream",
     "text": [
      "<class 'float'>\n"
     ]
    }
   ],
   "source": [
    "# float / desimal\n",
    "tinggi_siswa = 170.5 # tipe data desimal/pecahan\n",
    "print(type(tinggi_siswa))"
   ]
  },
  {
   "cell_type": "code",
   "execution_count": 19,
   "id": "ad66b73a",
   "metadata": {},
   "outputs": [
    {
     "name": "stdout",
     "output_type": "stream",
     "text": [
      "2030\n"
     ]
    }
   ],
   "source": [
    "angka1 = \"20\"\n",
    "angka2 = \"30\"\n",
    "\n",
    "tambah = angka1 + angka2\n",
    "print(tambah)"
   ]
  },
  {
   "cell_type": "code",
   "execution_count": 22,
   "id": "9070bf6f",
   "metadata": {},
   "outputs": [
    {
     "name": "stdout",
     "output_type": "stream",
     "text": [
      "False\n",
      "<class 'bool'>\n"
     ]
    }
   ],
   "source": [
    "# boolean (true and false)\n",
    "suka_python = False\n",
    "print(suka_python)\n",
    "print(type(suka_python))"
   ]
  },
  {
   "cell_type": "code",
   "execution_count": null,
   "id": "b1e37141",
   "metadata": {},
   "outputs": [
    {
     "name": "stdout",
     "output_type": "stream",
     "text": [
      "<class 'list'>\n",
      "<class 'list'>\n",
      "evelyn\n"
     ]
    }
   ],
   "source": [
    "# sequence data types\n",
    "\n",
    "# list / daftar [] untuk membuat list\n",
    "\n",
    "list_siswa = [\"evelyn\", 'ario']\n",
    "list_nilai = [76, 89, 90, 90.5]\n",
    "print(type(list_siswa))\n",
    "print(type(list_nilai))\n",
    "\n",
    "print(list_siswa[0]) # sequence dimulai urutannya dari 0"
   ]
  },
  {
   "cell_type": "code",
   "execution_count": 31,
   "id": "468be4e1",
   "metadata": {},
   "outputs": [
    {
     "name": "stdout",
     "output_type": "stream",
     "text": [
      "<class 'tuple'>\n"
     ]
    }
   ],
   "source": [
    "# tuple ()\n",
    "daftar_hari = (\"Senin\", \"Selasa\", \"Rabu\")\n",
    "print(type(daftar_hari))"
   ]
  },
  {
   "cell_type": "code",
   "execution_count": 38,
   "id": "c065f75e",
   "metadata": {},
   "outputs": [
    {
     "name": "stdout",
     "output_type": "stream",
     "text": [
      "<class 'range'>\n"
     ]
    }
   ],
   "source": [
    "# tipe data range()\n",
    "# angka = range(start, stop, step)\n",
    "angka = range(1, 10, 2)\n",
    "print(type(angka))\n"
   ]
  },
  {
   "cell_type": "code",
   "execution_count": 40,
   "id": "381be813",
   "metadata": {},
   "outputs": [
    {
     "name": "stdout",
     "output_type": "stream",
     "text": [
      "<class 'dict'>\n"
     ]
    }
   ],
   "source": [
    "# tipe data dictionary { key:value}\n",
    "kontak_telepon = {\n",
    "    \"evelyn\": 886,\n",
    "    \"ario\": 889\n",
    "}\n",
    "print(type(kontak_telepon))"
   ]
  },
  {
   "cell_type": "code",
   "execution_count": 45,
   "id": "2d9bd4bd",
   "metadata": {},
   "outputs": [
    {
     "name": "stdout",
     "output_type": "stream",
     "text": [
      "['evelyn', 'evelyn', 'ario']\n",
      "{'evelyn', 'ario'}\n",
      "<class 'set'>\n"
     ]
    }
   ],
   "source": [
    "# tipe data set\n",
    "himpunan_siswa = {\"evelyn\", \"ario\"}\n",
    "list_siswa = [\"evelyn\", \"evelyn\", \"ario\"]\n",
    "himp_siswa = {\"evelyn\", \"evelyn\", \"ario\"}\n",
    "print(list_siswa)\n",
    "print(himp_siswa)\n",
    "print(type(himpunan_siswa))"
   ]
  },
  {
   "cell_type": "code",
   "execution_count": 12,
   "id": "f1adf62b",
   "metadata": {},
   "outputs": [
    {
     "name": "stdout",
     "output_type": "stream",
     "text": [
      "B\n",
      "Evelyn\n",
      "Belajar Python Programming\n",
      "Evelyn Belajar Python Programming 2\n"
     ]
    }
   ],
   "source": [
    "# String\n",
    "teks = \"Evelyn Belajar Python Programming\"\n",
    "\n",
    "# akses/indexing di string\n",
    "print(teks[7])\n",
    "\n",
    "# string slicing (start:stop)\n",
    "print(teks[0:6])\n",
    "\n",
    "print(teks[7:]) # : artinya semua\n",
    "\n",
    "print(teks + \" 2\")"
   ]
  },
  {
   "cell_type": "code",
   "execution_count": null,
   "id": "f3cdd9b1",
   "metadata": {},
   "outputs": [
    {
     "name": "stdout",
     "output_type": "stream",
     "text": [
      "Nama saya adalah evelyn usia saya 20 dan tinggi 175\n"
     ]
    }
   ],
   "source": [
    "nama = \"evelyn\"\n",
    "usia = 20\n",
    "tinggi = 175\n",
    "nama2 = \"ario\"\n",
    "usia2 = 23\n",
    "tinggi2 = 170\n",
    "\n",
    "print(f\"Nama saya adalah {nama} usia saya {usia} dan tinggi {tinggi}\") #{} placeholdera "
   ]
  },
  {
   "cell_type": "code",
   "execution_count": null,
   "id": "ce3df2df",
   "metadata": {},
   "outputs": [
    {
     "name": "stdout",
     "output_type": "stream",
     "text": [
      "03 agustus 2002\n"
     ]
    }
   ],
   "source": [
    "daftar_klien = {\n",
    "    \"ario\": \"03 agustus 2002\",\n",
    "    \"evelyn\": \"04 mey 2025\"\n",
    "}\n",
    "\n",
    "# print(f\"Nama klien {daftar_klien['evelyn']} dan lahir di {daftar_klien.values()}\")\n",
    "\n",
    "print(daftar_klien['ario']) # indexing"
   ]
  },
  {
   "cell_type": "code",
   "execution_count": 24,
   "id": "4d3f0b17",
   "metadata": {},
   "outputs": [
    {
     "name": "stdout",
     "output_type": "stream",
     "text": [
      "Hasil tambah:  15\n",
      "Hasil Kurang:  5\n",
      "Hasil Pembagian:  2.0\n",
      "Hasil Kali:  50\n",
      "Hasil Sisa Bagi:  0\n",
      "Hasil Pangka:  100000\n"
     ]
    }
   ],
   "source": [
    "# Control Flow \n",
    "\n",
    "# operator aritmetika\n",
    "\n",
    "angka1 = 10\n",
    "angka2 = 5\n",
    "\n",
    "print(\"Hasil tambah: \", angka1 + angka2) # operator +\n",
    "print(\"Hasil Kurang: \", angka1 - angka2) # operator -\n",
    "print(\"Hasil Pembagian: \", angka1 / angka2) # operator /\n",
    "print(\"Hasil Kali: \", angka1 * angka2) # operator *\n",
    "print(\"Hasil Sisa Bagi: \", angka1 % angka2) # operator %\n",
    "print(\"Hasil Pangka: \", angka1 ** angka2) # operator **\n"
   ]
  },
  {
   "cell_type": "code",
   "execution_count": null,
   "id": "af4056eb",
   "metadata": {},
   "outputs": [
    {
     "name": "stdout",
     "output_type": "stream",
     "text": [
      "5.5\n"
     ]
    }
   ],
   "source": [
    "a = 11\n",
    "b = 2\n",
    "print(a / b)"
   ]
  },
  {
   "cell_type": "code",
   "execution_count": 35,
   "id": "1bde71c5",
   "metadata": {},
   "outputs": [
    {
     "name": "stdout",
     "output_type": "stream",
     "text": [
      "True\n",
      "False\n",
      "False\n",
      "True\n",
      "False\n",
      "True\n"
     ]
    }
   ],
   "source": [
    "# operator comparison\n",
    "a = 10\n",
    "b = 5\n",
    "\n",
    "print(a > b) # True\n",
    "print(a < b) # False\n",
    "print(a <= b) # False\n",
    "print(a >= b) # True\n",
    "print(a == b) # False\n",
    "print(a != b) # True"
   ]
  },
  {
   "cell_type": "code",
   "execution_count": 39,
   "id": "719f1342",
   "metadata": {},
   "outputs": [
    {
     "name": "stdout",
     "output_type": "stream",
     "text": [
      "False\n",
      "True\n",
      "True\n",
      "True\n"
     ]
    }
   ],
   "source": [
    "# operator logical (and, or)\n",
    "\n",
    "a = 10\n",
    "b = 5\n",
    "\n",
    "print(a > b and a == b) #false\n",
    "print(a > b and a >= b) #true\n",
    "print(a > b or a == b) #true\n",
    "print(a > b or a >= b) #true\n"
   ]
  },
  {
   "cell_type": "code",
   "execution_count": null,
   "id": "b2a282d6",
   "metadata": {},
   "outputs": [
    {
     "name": "stdout",
     "output_type": "stream",
     "text": [
      "Kamu kurang gacorr\n"
     ]
    }
   ],
   "source": [
    "# control flow if\n",
    "nilai_siswa = 89\n",
    "\n",
    "# kondisi\n",
    "if nilai_siswa >= 90:\n",
    "    print(\"Kamu dapat A\")\n",
    "else:\n",
    "    print(\"Kamu kurang gacorr\")"
   ]
  },
  {
   "cell_type": "code",
   "execution_count": 45,
   "id": "3a89b181",
   "metadata": {},
   "outputs": [
    {
     "name": "stdout",
     "output_type": "stream",
     "text": [
      "Kamu kurang gacorr\n"
     ]
    }
   ],
   "source": [
    "# control flow if elif else\n",
    "nilai_siswa = 67\n",
    "\n",
    "# kondisi\n",
    "if nilai_siswa >= 90:\n",
    "    print(\"Kamu dapat A\")\n",
    "elif nilai_siswa < 90 and nilai_siswa >= 80:\n",
    "    print(\"Kamu dapat B\")\n",
    "elif nilai_siswa < 80 and nilai_siswa >=70:\n",
    "    print(\"Kamu dapat C\")\n",
    "else:\n",
    "    print(\"Kamu kurang gacorr\")"
   ]
  }
 ],
 "metadata": {
  "kernelspec": {
   "display_name": "Python 3",
   "language": "python",
   "name": "python3"
  },
  "language_info": {
   "codemirror_mode": {
    "name": "ipython",
    "version": 3
   },
   "file_extension": ".py",
   "mimetype": "text/x-python",
   "name": "python",
   "nbconvert_exporter": "python",
   "pygments_lexer": "ipython3",
   "version": "3.13.3"
  }
 },
 "nbformat": 4,
 "nbformat_minor": 5
}
