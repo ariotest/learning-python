{
 "cells": [
  {
   "cell_type": "code",
   "execution_count": null,
   "id": "c5cb5050",
   "metadata": {},
   "outputs": [
    {
     "data": {
      "image/png": "[encoded data removed]",
      "text/plain": [
       "<Figure size 800x500 with 1 Axes>"
      ]
     },
     "metadata": {},
     "output_type": "display_data"
    }
   ],
   "source": []
  },
  {
   "cell_type": "markdown",
   "id": "3435c88d",
   "metadata": {},
   "source": [
    "### OOP (Object oriented programming)\n",
    "- Class -> blueprint(cetakan) untuk membuat object\n",
    "- analogi -> kalau mau bikin rumah, kita perlu design rumah dulu, design itulah disbut kelas\n",
    "- object -> benda nyata yg dibuat dari kelas\n",
    "- analgi -> object = rumah sudah jadi."
   ]
  },
  {
   "cell_type": "code",
   "execution_count": null,
   "id": "f3053329",
   "metadata": {},
   "outputs": [
    {
     "name": "stdout",
     "output_type": "stream",
     "text": [
      "Halo, nama saya Evelyn dari jurusan Art\n",
      "Halo, nama saya Ario dari jurusan IT\n",
      "Evelyn\n",
      "Ario\n",
      "IT\n"
     ]
    }
   ],
   "source": [
    "'''\n",
    "struktur class dasar di python.\n",
    "class NamaClass:\n",
    "    def __init__(self, atribut1, atribut2):\n",
    "        self.atribut1 = atribut1\n",
    "        self.atribut2 = atribut2\n",
    "\n",
    "    def method_sapa(self):\n",
    "        print(f\"halo, saya {self.atribut1}\")\n",
    "'''\n",
    "\n",
    "class Siswa:\n",
    "    def __init__(self, nama, jurusan): #atribut -> data yg dimiliki object\n",
    "        self.nama = nama # atribut nama\n",
    "        self.jurusan = jurusan #atribut jurusan\n",
    "    \n",
    "    # perilaku dari kelas\n",
    "    def perkenalan(self):\n",
    "        print(f\"Halo, nama saya {self.nama} dari jurusan {self.jurusan}\")\n",
    "        \n",
    "# __init__ (konstruktor)\n",
    "# -> fungsi khusus yg otomatis dipanggil saat object kita buat.\n",
    "# -> digunakan mengisi atribut awal\n",
    "\n",
    "# self -> kata kunci untuk representasi object itu sendiri\n",
    "\n",
    "# Membuat objek siswa\n",
    "siswa1 = Siswa(\"Evelyn\", \"Art\") # ini object1\n",
    "siswa1.perkenalan()\n",
    "\n",
    "siswa2 = Siswa(\"Ario\", \"IT\")\n",
    "siswa2.perkenalan()\n",
    "print(siswa1.nama)\n",
    "print(siswa2.nama)\n",
    "print(siswa2.jurusan)"
   ]
  },
  {
   "cell_type": "code",
   "execution_count": null,
   "id": "059ec603",
   "metadata": {},
   "outputs": [
    {
     "name": "stdout",
     "output_type": "stream",
     "text": [
      "Merah\n",
      "Mobil Toyota berwarna Merah\n",
      "Mobil Mercedes berwarna Merah\n",
      "Mobil Mclaren berwarna Hijau\n",
      "Mobil Mclaren sedang berjalan\n"
     ]
    }
   ],
   "source": [
    "class Mobil:\n",
    "    def __init__(self, merk, warna):\n",
    "        self.merk = merk\n",
    "        self.warna = warna\n",
    "        \n",
    "    def info(self):\n",
    "        print(f\"Mobil {self.merk} berwarna {self.warna}\")\n",
    "    \n",
    "    def jalan(self):\n",
    "        print(f\"Mobil {self.merk} sedang berjalan\")\n",
    "\n",
    "# membuat object dari Class\n",
    "mobil1 = Mobil(\"Toyota\", \"Merah\")\n",
    "mobil2 = Mobil(\"Mclaren\", \"Biru\")\n",
    "\n",
    "print(mobil1.warna)\n",
    "mobil1.info()\n",
    "\n",
    "mobil1.merk = \"Mercedes\"\n",
    "mobil1.info()\n",
    "\n",
    "mobil2.warna = \"Hijau\"\n",
    "mobil2.info()\n",
    "mobil2.jalan()"
   ]
  },
  {
   "cell_type": "markdown",
   "id": "0358bcd0",
   "metadata": {},
   "source": [
    "OOP -> Membuat kode kita lebih terstruktur, rapi, dan bisa digunakan ulang"
   ]
  },
  {
   "cell_type": "code",
   "execution_count": null,
   "id": "73fbc3de",
   "metadata": {},
   "outputs": [
    {
     "name": "stdout",
     "output_type": "stream",
     "text": [
      "Evelyn\n",
      "10000\n",
      "10000\n"
     ]
    }
   ],
   "source": [
    "# Encapsulation\n",
    "# -> menyembuyikan data (atribut) agar tidak bisa diakses langsung dair luar skls.\n",
    "# biasanya diugnakan untul lindungi data agar tidak sembarangan diubah\n",
    "\n",
    "class AkunBank:\n",
    "    def __init__(self, nama, saldo):\n",
    "        self.nama = nama # ini adalah public atribut\n",
    "        self.__saldo = saldo # private atribute\n",
    "    # atribut dengan __ didepan bersifta private\n",
    "    \n",
    "    def cek_saldo(self):\n",
    "        return self.__saldo\n",
    "\n",
    "# kita buat object \n",
    "akun1 = AkunBank(\"Evelyn\", 10000)\n",
    "print(akun1.nama)\n",
    "print(akun1.cek_saldo())\n",
    "\n",
    "# encapsulation itu nyimpan data dalam class agar aman\n",
    "# atribut private (__saldo) tidak bisa diakses langsung dari uar\n",
    "# semua interaksi harus lewat method resmi -> teller atau ATM\n"
   ]
  },
  {
   "cell_type": "code",
   "execution_count": 24,
   "id": "eb4ad1bb",
   "metadata": {},
   "outputs": [
    {
     "name": "stdout",
     "output_type": "stream",
     "text": [
      "Meong-meong\n",
      "Guk-guk\n",
      "Mimi sedang makan\n"
     ]
    }
   ],
   "source": [
    "# Inheritance (pewarisan)\n",
    "# -> kemampuan seubah class (anak) untuk mewarisi atribut dan method dari kelas lain (induk/parent)\n",
    "# -> dengan inheritance kita ga perlu lagi nulis ulang kode -> cuku gunaik kembali kode dari kelas induk.\n",
    "\n",
    "# parent class\n",
    "class Hewan:\n",
    "    def __init__(self, nama):\n",
    "        self.nama = nama\n",
    "        \n",
    "    def makan(self):\n",
    "        print(f\"{self.nama} sedang makan\")\n",
    "\n",
    "# child class/kls anak\n",
    "class Kucing(Hewan): #mewarisi dari hewan\n",
    "    def suara(self):\n",
    "        print(\"Meong-meong\")\n",
    "\n",
    "# child class/kls anak\n",
    "class Anjing(Hewan): #mewarisi dari hewan\n",
    "    def suara(self):\n",
    "        print(\"Guk-guk\")\n",
    "    \n",
    "\n",
    "# objek\n",
    "mimi = Kucing(\"Mimi\")\n",
    "doggo = Anjing(\"Doggo\")\n",
    "mimi.suara()\n",
    "doggo.suara()\n",
    "mimi.makan()\n"
   ]
  },
  {
   "cell_type": "code",
   "execution_count": 27,
   "id": "6c75ed1a",
   "metadata": {},
   "outputs": [
    {
     "name": "stdout",
     "output_type": "stream",
     "text": [
      "Evelyn sedang belajar Python Programming\n"
     ]
    }
   ],
   "source": [
    "# file processing\n",
    "'''\n",
    "mode:\n",
    "'r' = read(membaca)\n",
    "'w' = write (menulis, menimpa isi lama)\n",
    "'a' = append (menambahkan)\n",
    "'x' = create (membuat file baru, error jiak sudah ada)\n",
    "'''\n",
    "\n",
    "#apabila satu folder ./ kalau diatas folder/parent folder ../\n",
    "file = open(\"./data.txt\", \"r\")\n",
    "content = file.read()\n",
    "print(content)\n",
    "file.close()"
   ]
  },
  {
   "cell_type": "code",
   "execution_count": null,
   "id": "6f42e596",
   "metadata": {},
   "outputs": [
    {
     "name": "stdout",
     "output_type": "stream",
     "text": [
      "Baris 1\n",
      "Baris 2\n",
      "Baris 3\n",
      "\n"
     ]
    }
   ],
   "source": [
    "# with statement\n",
    "# buat file dulu\n",
    "with open(\"test.txt\", \"w\") as file:\n",
    "    file.write(\"Baris 1\\nBaris 2\\nBaris 3\\n\")\n",
    "\n",
    "# baca isi file\n",
    "with open(\"./test.txt\", \"r\") as folder:\n",
    "    isi = folder.read()\n",
    "    print(isi)"
   ]
  },
  {
   "cell_type": "code",
   "execution_count": null,
   "id": "bc72010c",
   "metadata": {},
   "outputs": [],
   "source": [
    "#  as -> alias -> singkatan \n",
    "import pandas as pd\n",
    "import numpy as np\n",
    "# numpy -> numerical python\n",
    "# matrix -> 3d, 2d, baris, kolom\n",
    "\n",
    "# pip install numpy"
   ]
  }
 ],
 "metadata": {
  "kernelspec": {
   "display_name": "Python 3",
   "language": "python",
   "name": "python3"
  },
  "language_info": {
   "codemirror_mode": {
    "name": "ipython",
    "version": 3
   },
   "file_extension": ".py",
   "mimetype": "text/x-python",
   "name": "python",
   "nbconvert_exporter": "python",
   "pygments_lexer": "ipython3",
   "version": "3.13.3"
  }
 },
 "nbformat": 4,
 "nbformat_minor": 5
}
