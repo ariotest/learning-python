{
 "cells": [
  {
   "cell_type": "code",
   "execution_count": 27,
   "id": "473d8f93",
   "metadata": {},
   "outputs": [
    {
     "name": "stdout",
     "output_type": "stream",
     "text": [
      "Evelyn\n"
     ]
    }
   ],
   "source": [
    "# List\n",
    "list_nama_siswa = [\"Kevin\", \"Evelyn\", \"Rafa\", \"David\"] #kurung [] untuk membuat list\n",
    "\n",
    "# akses elemen di dalam list (idex = start 0)\n",
    "print(list_nama_siswa[1])"
   ]
  },
  {
   "cell_type": "code",
   "execution_count": 28,
   "id": "1f016aab",
   "metadata": {},
   "outputs": [
    {
     "name": "stdout",
     "output_type": "stream",
     "text": [
      "['Kevin', 'Evelyn', 'Rafa', 'David', 'Jacob']\n"
     ]
    }
   ],
   "source": [
    "# mencoba method\n",
    "# menambah / menghapus\n",
    "\n",
    "# menambah append() => akhir index\n",
    "list_nama_siswa.append(\"Jacob\")\n",
    "print(list_nama_siswa)"
   ]
  },
  {
   "cell_type": "code",
   "execution_count": 29,
   "id": "3d28544d",
   "metadata": {},
   "outputs": [
    {
     "name": "stdout",
     "output_type": "stream",
     "text": [
      "['Kevin', 'Ario', 'Evelyn', 'Rafa', 'David', 'Jacob']\n"
     ]
    }
   ],
   "source": [
    "# menambah method insert(lokasi index, nama elemen)\n",
    "list_nama_siswa.insert(1, \"Ario\")\n",
    "print(list_nama_siswa)"
   ]
  },
  {
   "cell_type": "code",
   "execution_count": 30,
   "id": "165ab145",
   "metadata": {},
   "outputs": [
    {
     "name": "stdout",
     "output_type": "stream",
     "text": [
      "['Kevin', 'Ario', 'Evelyn', 'Rafa', 'Jacob']\n"
     ]
    }
   ],
   "source": [
    "# method hapus\n",
    "\n",
    "# remove, pop\n",
    "list_nama_siswa.remove(\"David\")\n",
    "print(list_nama_siswa)"
   ]
  },
  {
   "cell_type": "code",
   "execution_count": 31,
   "id": "9620ff91",
   "metadata": {},
   "outputs": [
    {
     "name": "stdout",
     "output_type": "stream",
     "text": [
      "['Kevin', 'Ario', 'Evelyn', 'Jacob']\n"
     ]
    }
   ],
   "source": [
    "# pop = hapus elemen berdasarkan index\n",
    "list_nama_siswa.pop(3)\n",
    "print(list_nama_siswa)"
   ]
  },
  {
   "cell_type": "code",
   "execution_count": 32,
   "id": "46348f0a",
   "metadata": {},
   "outputs": [
    {
     "data": {
      "text/plain": [
       "'Evelyn'"
      ]
     },
     "execution_count": 32,
     "metadata": {},
     "output_type": "execute_result"
    }
   ],
   "source": [
    "# akses element dari list\n",
    "list_nama_siswa[2]"
   ]
  },
  {
   "cell_type": "code",
   "execution_count": 33,
   "id": "e74f5a55",
   "metadata": {},
   "outputs": [
    {
     "name": "stdout",
     "output_type": "stream",
     "text": [
      "['Kevin', 'Ario', 'Evelyn']\n"
     ]
    }
   ],
   "source": [
    "# slicing / memotong list\n",
    "print(list_nama_siswa[0:3]) # start:end"
   ]
  },
  {
   "cell_type": "code",
   "execution_count": 34,
   "id": "1fccb028",
   "metadata": {},
   "outputs": [
    {
     "name": "stdout",
     "output_type": "stream",
     "text": [
      "['Kevin', 'Ario', 'Evelyn', 'Jacob', 'Brandon', 'Michael']\n"
     ]
    }
   ],
   "source": [
    "# kita bisa menambah list dengan list baru\n",
    "list_siswa_baru = [\"Brandon\", \"Michael\"]\n",
    "list_nama_siswa =  list_nama_siswa + list_siswa_baru\n",
    "print(list_nama_siswa)"
   ]
  },
  {
   "cell_type": "code",
   "execution_count": 35,
   "id": "1f9e5560",
   "metadata": {},
   "outputs": [
    {
     "name": "stdout",
     "output_type": "stream",
     "text": [
      "Michael\n"
     ]
    }
   ],
   "source": [
    "# kita bisa akes elemen paling belakang dengan (-1)\n",
    "print(list_nama_siswa[-1]) #akses data paling akhir"
   ]
  },
  {
   "cell_type": "code",
   "execution_count": 36,
   "id": "41c0e020",
   "metadata": {},
   "outputs": [
    {
     "name": "stdout",
     "output_type": "stream",
     "text": [
      "{'Michael', 'Jacob', 'Brandon', 'Ario', 'Kevin', 'Evelyn'}\n"
     ]
    }
   ],
   "source": [
    "# Set (Himpunan)\n",
    "\n",
    "nama_siswa = {'Kevin', 'Ario', 'Evelyn', 'Jacob', 'Brandon', 'Michael'}\n",
    "print(nama_siswa)"
   ]
  },
  {
   "cell_type": "code",
   "execution_count": 38,
   "id": "eb13a577",
   "metadata": {},
   "outputs": [
    {
     "name": "stdout",
     "output_type": "stream",
     "text": [
      "{'Michael', 'Jacob', 'Brandon', 'Charlie', 'Ario', 'Kevin', 'Evelyn'}\n",
      "{'Michael', 'Jacob', 'Brandon', 'Charlie', 'Ario', 'Kevin', 'Evelyn'}\n"
     ]
    }
   ],
   "source": [
    "# method tambah dan hapus\n",
    "\n",
    "# method tambah (add)\n",
    "nama_siswa.add(\"Charlie\")\n",
    "print(nama_siswa)\n",
    "nama_siswa.add(\"Jacob\")\n",
    "print(nama_siswa)"
   ]
  },
  {
   "cell_type": "code",
   "execution_count": null,
   "id": "cafb1c21",
   "metadata": {},
   "outputs": [
    {
     "ename": "KeyError",
     "evalue": "'jacob'",
     "output_type": "error",
     "traceback": [
      "\u001b[31m---------------------------------------------------------------------------\u001b[39m",
      "\u001b[31mKeyError\u001b[39m                                  Traceback (most recent call last)",
      "\u001b[36mCell\u001b[39m\u001b[36m \u001b[39m\u001b[32mIn[39]\u001b[39m\u001b[32m, line 2\u001b[39m\n\u001b[32m      1\u001b[39m \u001b[38;5;66;03m# method hapus (remove, discard)\u001b[39;00m\n\u001b[32m----> \u001b[39m\u001b[32m2\u001b[39m \u001b[43mnama_siswa\u001b[49m\u001b[43m.\u001b[49m\u001b[43mremove\u001b[49m\u001b[43m(\u001b[49m\u001b[33;43m\"\u001b[39;49m\u001b[33;43mjacob\u001b[39;49m\u001b[33;43m\"\u001b[39;49m\u001b[43m)\u001b[49m\n\u001b[32m      3\u001b[39m \u001b[38;5;28mprint\u001b[39m(nama_siswa)\n",
      "\u001b[31mKeyError\u001b[39m: 'jacob'"
     ]
    }
   ],
   "source": [
    "# method hapus (remove, discard)\n",
    "nama_siswa.remove(\"Jacob\")\n",
    "print(nama_siswa)"
   ]
  },
  {
   "cell_type": "code",
   "execution_count": 40,
   "id": "8917c275",
   "metadata": {},
   "outputs": [
    {
     "name": "stdout",
     "output_type": "stream",
     "text": [
      "{'Michael', 'Jacob', 'Brandon', 'Charlie', 'Ario', 'Kevin', 'Evelyn'}\n"
     ]
    }
   ],
   "source": [
    "# method hapus (remove, discard)\n",
    "nama_siswa.discard(\"jacob\")\n",
    "print(nama_siswa)"
   ]
  },
  {
   "cell_type": "code",
   "execution_count": 46,
   "id": "31f9dd99",
   "metadata": {},
   "outputs": [
    {
     "name": "stdout",
     "output_type": "stream",
     "text": [
      "{'Michael', 'Jacob', 'Brandon', 'Chaplin', 'Kevin', 'Charlie', 'Evelyn', 'Trump', 'Ario'}\n",
      "{'Ario', 'Kevin', 'Evelyn'}\n",
      "{'Michael', 'Jacob', 'Charlie', 'Brandon'}\n"
     ]
    }
   ],
   "source": [
    "# selisih, gabungan, irisan\n",
    "nama_siswa_pertama = {'Michael', 'Jacob', 'Brandon', 'Charlie', 'Ario', 'Kevin', 'Evelyn'}\n",
    "nama_siswa_kedua = {'Michael', 'Jacob', 'Brandon', 'Charlie', 'Chaplin', 'Trump'}\n",
    "\n",
    "# gabungan\n",
    "print(nama_siswa_pertama | nama_siswa_kedua) # |\n",
    "\n",
    "# selisih\n",
    "print(nama_siswa_pertama - nama_siswa_kedua) # -\n",
    "\n",
    "# irisan\n",
    "print(nama_siswa_pertama & nama_siswa_kedua) # &\n"
   ]
  },
  {
   "cell_type": "code",
   "execution_count": 47,
   "id": "74a88177",
   "metadata": {},
   "outputs": [
    {
     "name": "stdout",
     "output_type": "stream",
     "text": [
      "{'Kevin': 998, 'Evelyn': 997, 'Senvin': 996, 'Brandon': 995, 'Ario': 994}\n"
     ]
    }
   ],
   "source": [
    "# Dictionary\n",
    "kontak_telepon = {\n",
    "    # Key : Value ,\n",
    "    \"Kevin\": 998,\n",
    "    \"Evelyn\": 997,\n",
    "    \"Senvin\": 996,\n",
    "    \"Brandon\": 995\n",
    "}\n",
    "\n",
    "# tambah data ke dictionary\n",
    "kontak_telepon[\"Ario\"] = 994\n",
    "print(kontak_telepon)"
   ]
  },
  {
   "cell_type": "code",
   "execution_count": 50,
   "id": "8edc9731",
   "metadata": {},
   "outputs": [
    {
     "data": {
      "text/plain": [
       "997"
      ]
     },
     "execution_count": 50,
     "metadata": {},
     "output_type": "execute_result"
    }
   ],
   "source": [
    "# untuk akses nilai/value\n",
    "kontak_telepon[\"Evelyn\"]"
   ]
  },
  {
   "cell_type": "code",
   "execution_count": 51,
   "id": "8cf46abf",
   "metadata": {},
   "outputs": [],
   "source": [
    "# menghapus data dalam dictionary (del, pop)\n",
    "del kontak_telepon[\"Ario\"]"
   ]
  },
  {
   "cell_type": "code",
   "execution_count": 53,
   "id": "85d2f075",
   "metadata": {},
   "outputs": [
    {
     "data": {
      "text/plain": [
       "997"
      ]
     },
     "execution_count": 53,
     "metadata": {},
     "output_type": "execute_result"
    }
   ],
   "source": [
    "kontak_telepon.pop(\"Evelyn\")"
   ]
  },
  {
   "cell_type": "code",
   "execution_count": 54,
   "id": "d80da9e3",
   "metadata": {},
   "outputs": [
    {
     "data": {
      "text/plain": [
       "dict_keys(['Kevin', 'Senvin', 'Brandon'])"
      ]
     },
     "execution_count": 54,
     "metadata": {},
     "output_type": "execute_result"
    }
   ],
   "source": [
    "# akses elemen di dictionray\n",
    "kontak_telepon.keys()"
   ]
  },
  {
   "cell_type": "code",
   "execution_count": 56,
   "id": "70f0f9e6",
   "metadata": {},
   "outputs": [
    {
     "data": {
      "text/plain": [
       "dict_values([998, 996, 995])"
      ]
     },
     "execution_count": 56,
     "metadata": {},
     "output_type": "execute_result"
    }
   ],
   "source": [
    "kontak_telepon.values()"
   ]
  },
  {
   "cell_type": "code",
   "execution_count": 57,
   "id": "5f1532ca",
   "metadata": {},
   "outputs": [
    {
     "data": {
      "text/plain": [
       "dict_items([('Kevin', 998), ('Senvin', 996), ('Brandon', 995)])"
      ]
     },
     "execution_count": 57,
     "metadata": {},
     "output_type": "execute_result"
    }
   ],
   "source": [
    "kontak_telepon.items()"
   ]
  },
  {
   "cell_type": "code",
   "execution_count": 59,
   "id": "19df489d",
   "metadata": {},
   "outputs": [
    {
     "name": "stdout",
     "output_type": "stream",
     "text": [
      "kamu nilai tinggi Kevin\n",
      "kamu nilai tinggi Evelyn\n"
     ]
    }
   ],
   "source": [
    "nilai_siswa = {\n",
    "    # Key : Value ,\n",
    "    \"Kevin\": 90,\n",
    "    \"Evelyn\": 90,\n",
    "    \"Senvin\": 85,\n",
    "    \"Brandon\": 80\n",
    "}\n",
    "\n",
    "for nama, nilai in nilai_siswa.items():\n",
    "    if nilai > 85:\n",
    "        print(\"kamu nilai tinggi\", nama)"
   ]
  },
  {
   "cell_type": "code",
   "execution_count": 64,
   "id": "66420219",
   "metadata": {},
   "outputs": [
    {
     "name": "stdout",
     "output_type": "stream",
     "text": [
      "1\n",
      "2\n",
      "3\n",
      "4\n",
      "5\n",
      "6\n",
      "7\n",
      "8\n",
      "9\n",
      "10\n",
      "Hello world\n"
     ]
    }
   ],
   "source": [
    "# 1 - 10\n",
    "for i in range(1, 11):\n",
    "    print(i)\n",
    "print(\"Hello world\")"
   ]
  },
  {
   "cell_type": "code",
   "execution_count": 66,
   "id": "71c00631",
   "metadata": {},
   "outputs": [
    {
     "name": "stdout",
     "output_type": "stream",
     "text": [
      "Halo, Evelyn\n",
      "Halo, Ario\n"
     ]
    }
   ],
   "source": [
    "# Function\n",
    "'''\n",
    "# sintax\n",
    "def nama_function(isi_parameter):\n",
    "    # isi functionnya\n",
    "    \n",
    "# panggil function\n",
    "nama_function(isi_paramater)\n",
    "'''\n",
    "\n",
    "def sapa(nama):\n",
    "    print(f\"Halo, {nama}\")\n",
    "    \n",
    "\n",
    "sapa(\"Evelyn\")\n",
    "sapa(\"Ario\")"
   ]
  },
  {
   "cell_type": "code",
   "execution_count": null,
   "id": "30aee860",
   "metadata": {},
   "outputs": [
    {
     "name": "stdout",
     "output_type": "stream",
     "text": [
      "Halo teman-teman\n"
     ]
    }
   ],
   "source": [
    "# Jenis Function tanpa paramater\n",
    "def sapa():\n",
    "    print(\"Halo teman-teman\")\n",
    "    \n",
    "sapa()"
   ]
  },
  {
   "cell_type": "code",
   "execution_count": null,
   "id": "c50d5a32",
   "metadata": {},
   "outputs": [],
   "source": [
    "# jenis function dengan parameter\n",
    "def sapa(nama):\n",
    "    print(f\"Halo, {nama}\")"
   ]
  },
  {
   "cell_type": "code",
   "execution_count": null,
   "id": "36885da0",
   "metadata": {},
   "outputs": [
    {
     "name": "stdout",
     "output_type": "stream",
     "text": [
      "Kurus\n",
      "Kurus\n"
     ]
    }
   ],
   "source": [
    "def bmi_count(berat, tinggi):\n",
    "    berat = berat / 100\n",
    "    hasil = berat / (tinggi ** 2)\n",
    "\n",
    "    # rumus salah\n",
    "    if hasil > 55:\n",
    "        return \"Sehat\"\n",
    "    elif hasil < 55 and hasil > 40:\n",
    "        return \"Obes\"\n",
    "    else:\n",
    "        return \"Kurus\"\n",
    "    \n",
    "\n",
    "# input berat dan tinggi\n",
    "berat = int(input(\"berat: \"))\n",
    "tinggi = int(input(\"tinggi: \"))\n",
    "print(bmi_count(65, 170))\n",
    "print(bmi_count(berat, tinggi))\n"
   ]
  },
  {
   "cell_type": "code",
   "execution_count": null,
   "id": "8d907f3a",
   "metadata": {},
   "outputs": [],
   "source": [
    "def tambah_return(a, b):\n",
    "    return a + b # kembalikan nilainya\n"
   ]
  },
  {
   "cell_type": "code",
   "execution_count": null,
   "id": "3c42c3d5",
   "metadata": {},
   "outputs": [],
   "source": [
    "def tambah_print(a, b):\n",
    "    print(a + b) # cetak\n",
    "\n"
   ]
  },
  {
   "cell_type": "code",
   "execution_count": 82,
   "id": "8adc2c3d",
   "metadata": {},
   "outputs": [
    {
     "name": "stdout",
     "output_type": "stream",
     "text": [
      "15\n"
     ]
    }
   ],
   "source": [
    "a = 10\n",
    "b = 5\n",
    "# kosong\n",
    "print(tambah_return(a, b))"
   ]
  },
  {
   "cell_type": "code",
   "execution_count": 84,
   "id": "27c7f1b3",
   "metadata": {},
   "outputs": [
    {
     "name": "stdout",
     "output_type": "stream",
     "text": [
      "30\n"
     ]
    }
   ],
   "source": [
    "hasil = 2 * tambah_return(10, 5)\n",
    "print(hasil)"
   ]
  },
  {
   "cell_type": "code",
   "execution_count": 86,
   "id": "db4e23a7",
   "metadata": {},
   "outputs": [
    {
     "name": "stdout",
     "output_type": "stream",
     "text": [
      "Kau berada di Inggris\n",
      "Kau berada di Indonesia\n"
     ]
    }
   ],
   "source": [
    "# function dengan default parameter\n",
    "def lokasi(lok=\"Indonesia\"):\n",
    "    print(f\"Kau berada di {lok}\")\n",
    "\n",
    "lokasi(\"Inggris\")\n",
    "lokasi()"
   ]
  },
  {
   "cell_type": "code",
   "execution_count": null,
   "id": "91c85067",
   "metadata": {},
   "outputs": [],
   "source": [
    "def luas_lingkaran(r, phi = 3.14):\n",
    "    return r * phi"
   ]
  },
  {
   "cell_type": "code",
   "execution_count": 89,
   "id": "63555653",
   "metadata": {},
   "outputs": [
    {
     "name": "stdout",
     "output_type": "stream",
     "text": [
      "1\n",
      "2\n",
      "3\n",
      "4\n",
      "5\n",
      "6\n",
      "7\n",
      "8\n",
      "9\n",
      "10\n"
     ]
    }
   ],
   "source": [
    "# Looping\n",
    "# while\n",
    "\n",
    "angka_diulang = 1\n",
    "\n",
    "while angka_diulang <= 10:\n",
    "    print(angka_diulang)\n",
    "    angka_diulang += 1 # angka_diulang = angka_diulang + 1 increment"
   ]
  },
  {
   "cell_type": "code",
   "execution_count": 91,
   "id": "96c1f15f",
   "metadata": {},
   "outputs": [
    {
     "name": "stdout",
     "output_type": "stream",
     "text": [
      "1\n",
      "2\n",
      "3\n",
      "4\n",
      "5\n",
      "6\n",
      "7\n",
      "8\n",
      "9\n",
      "10\n"
     ]
    }
   ],
   "source": [
    "# looping\n",
    "'''\n",
    "for i (inisialisasi) in range(1, 10):\n",
    "    print(i)\n",
    "'''\n",
    "\n",
    "for i in range(1, 11):\n",
    "    print(i)"
   ]
  },
  {
   "cell_type": "code",
   "execution_count": null,
   "id": "bfdcc06b",
   "metadata": {},
   "outputs": [],
   "source": []
  }
 ],
 "metadata": {
  "kernelspec": {
   "display_name": "Python 3",
   "language": "python",
   "name": "python3"
  },
  "language_info": {
   "codemirror_mode": {
    "name": "ipython",
    "version": 3
   },
   "file_extension": ".py",
   "mimetype": "text/x-python",
   "name": "python",
   "nbconvert_exporter": "python",
   "pygments_lexer": "ipython3",
   "version": "3.13.3"
  }
 },
 "nbformat": 4,
 "nbformat_minor": 5
}
